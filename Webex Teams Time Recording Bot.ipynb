{
 "cells": [
  {
   "cell_type": "code",
   "execution_count": 111,
   "metadata": {},
   "outputs": [],
   "source": [
    "from webexteamssdk import WebexTeamsAPI\n",
    "from webexteamsbot import TeamsBot\n",
    "import os\n",
    "import requests\n",
    "import re, datetime\n",
    "from datetime import datetime, timedelta \n",
    "import pandas as pd\n",
    "from webexteamssdk import WebexTeamsAPI\n",
    "import requests\n",
    "from openpyxl import Workbook\n",
    "import openpyxl"
   ]
  },
  {
   "cell_type": "code",
   "execution_count": null,
   "metadata": {},
   "outputs": [],
   "source": [
    "#In CMD\n",
    "\n",
    ":: export TEAMS_BOT_URL=http://77af5e8d.ngrok.io/\n",
    ":: export TEAMS_BOT_TOKEN=MTg0ZTdhOTMtOTE5NS00NzAxLTgwNWEtZDQwZmM1NmZiODk5ODJjODIxZmEtNmZm_PF84_1eb65fdf-9643-417f-9974-ad72cae0e10f\n",
    ":: export TEAMS_BOT_EMAIL=timerec@webex.bot\n",
    ":: export TEAMS_BOT_APP_NAME=Time Recording Bot"
   ]
  },
  {
   "cell_type": "code",
   "execution_count": 2,
   "metadata": {},
   "outputs": [
    {
     "name": "stdout",
     "output_type": "stream",
     "text": [
      "None\n"
     ]
    }
   ],
   "source": [
    "bot_email = os.getenv(\"TEAMS_BOT_EMAIL\")\n",
    "teams_token = os.getenv(\"TEAMS_BOT_TOKEN\")\n",
    "bot_url = os.getenv(\"TEAMS_BOT_URL\")\n",
    "bot_app_name = os.getenv(\"TEAMS_BOT_APP_NAME\")\n",
    "\n",
    "print(bot_app_name)"
   ]
  },
  {
   "cell_type": "code",
   "execution_count": null,
   "metadata": {},
   "outputs": [],
   "source": [
    "################################################"
   ]
  },
  {
   "cell_type": "code",
   "execution_count": 90,
   "metadata": {},
   "outputs": [],
   "source": [
    "bot_email = \"timerec@webex.bot\"\n",
    "teams_token = \"MTg0ZTdhOTMtOTE5NS00NzAxLTgwNWEtZDQwZmM1NmZiODk5ODJjODIxZmEtNmZm_PF84_1eb65fdf-9643-417f-9974-ad72cae0e10f\"\n",
    "bot_url = \"https://8a909d6c.ngrok.io\"\n",
    "bot_app_name = \"Time Recording Bot\"\n",
    "room_ID = \"Y2lzY29zcGFyazovL3VzL0FQUExJQ0FUSU9OL2VhMDZiMTMyLWM5YzEtNDY1Zi05OGJmLTVmNzE3Y2RmYTMxYw\"\n",
    "\n",
    "\n",
    "headers = {'Authorization': 'Bearer ' + teams_token,\n",
    "'Content-type': 'application/json;charset=utf-8'}\n",
    "post_data = {'roomId': room_ID}\n",
    "response = requests.post(bot_url, json=post_data, headers=headers)\n",
    "\n",
    "api = WebexTeamsAPI(teams_token)"
   ]
  },
  {
   "cell_type": "code",
   "execution_count": 66,
   "metadata": {},
   "outputs": [
    {
     "data": {
      "text/plain": [
       "'20:08'"
      ]
     },
     "execution_count": 66,
     "metadata": {},
     "output_type": "execute_result"
    }
   ],
   "source": [
    "u = \"http://worldclockapi.com/api/json/{timezone}/now\".format(timezone=\"CET\")\n",
    "r = requests.get(u).json()\n",
    "\n",
    "\n",
    "returned_data = r[\"currentDateTime\"].split(\"T\")\n",
    "cur_time = returned_data[1]\n",
    "cur_time = (cur_time.split(\"+\"))[0]\n",
    "cur_time"
   ]
  },
  {
   "cell_type": "code",
   "execution_count": 131,
   "metadata": {
    "scrolled": true
   },
   "outputs": [
    {
     "name": "stderr",
     "output_type": "stream",
     "text": [
      "Teams Bot Email: timerec@webex.bot\n",
      "Teams Token: REDACTED\n",
      "Found existing webhook.  Updating it.\n"
     ]
    },
    {
     "name": "stdout",
     "output_type": "stream",
     "text": [
      " * Serving Flask app \"Time Recording Bot\" (lazy loading)\n",
      " * Environment: production\n",
      "   WARNING: Do not use the development server in a production environment.\n",
      "   Use a production WSGI server instead.\n",
      " * Debug mode: off\n"
     ]
    },
    {
     "name": "stderr",
     "output_type": "stream",
     "text": [
      "Configuring Webhook. \n",
      "Webhook ID: Y2lzY29zcGFyazovL3VzL1dFQkhPT0svYzBlMjg1YjQtMDUzMi00N2I3LWFlZDMtNTIxYTQ2MDNhMzZk\n",
      " * Running on http://127.0.0.1:3978/ (Press CTRL+C to quit)\n",
      "Message from: elandman@cisco.com\n",
      "Found command: /recordtime\n",
      "127.0.0.1 - - [22/Feb/2020 00:04:13] \"\u001b[37mPOST / HTTP/1.1\u001b[0m\" 200 -\n",
      "127.0.0.1 - - [22/Feb/2020 00:04:14] \"\u001b[37mPOST / HTTP/1.1\u001b[0m\" 200 -\n",
      "Message from: elandman@cisco.com\n",
      "Found command: /start\n",
      "127.0.0.1 - - [22/Feb/2020 00:04:20] \"\u001b[37mPOST / HTTP/1.1\u001b[0m\" 200 -\n",
      "127.0.0.1 - - [22/Feb/2020 00:04:20] \"\u001b[37mPOST / HTTP/1.1\u001b[0m\" 200 -\n",
      "Message from: elandman@cisco.com\n",
      "Found command: /end\n",
      "127.0.0.1 - - [22/Feb/2020 00:04:25] \"\u001b[37mPOST / HTTP/1.1\u001b[0m\" 200 -\n",
      "127.0.0.1 - - [22/Feb/2020 00:04:26] \"\u001b[37mPOST / HTTP/1.1\u001b[0m\" 200 -\n",
      "Message from: elandman@cisco.com\n",
      "Found command: /save\n",
      "[2020-02-22 00:04:41,698] ERROR in app: Exception on / [POST]\n",
      "Traceback (most recent call last):\n",
      "  File \"C:\\Users\\elandman\\AppData\\Local\\Continuum\\anaconda3\\lib\\site-packages\\flask\\app.py\", line 2292, in wsgi_app\n",
      "    response = self.full_dispatch_request()\n",
      "  File \"C:\\Users\\elandman\\AppData\\Local\\Continuum\\anaconda3\\lib\\site-packages\\flask\\app.py\", line 1815, in full_dispatch_request\n",
      "    rv = self.handle_user_exception(e)\n",
      "  File \"C:\\Users\\elandman\\AppData\\Local\\Continuum\\anaconda3\\lib\\site-packages\\flask\\app.py\", line 1718, in handle_user_exception\n",
      "    reraise(exc_type, exc_value, tb)\n",
      "  File \"C:\\Users\\elandman\\AppData\\Local\\Continuum\\anaconda3\\lib\\site-packages\\flask\\_compat.py\", line 35, in reraise\n",
      "    raise value\n",
      "  File \"C:\\Users\\elandman\\AppData\\Local\\Continuum\\anaconda3\\lib\\site-packages\\flask\\app.py\", line 1813, in full_dispatch_request\n",
      "    rv = self.dispatch_request()\n",
      "  File \"C:\\Users\\elandman\\AppData\\Local\\Continuum\\anaconda3\\lib\\site-packages\\flask\\app.py\", line 1799, in dispatch_request\n",
      "    return self.view_functions[rule.endpoint](**req.view_args)\n",
      "  File \"C:\\Users\\elandman\\AppData\\Local\\Continuum\\anaconda3\\lib\\site-packages\\webexteamsbot\\webexteamsbot.py\", line 342, in process_incoming_message\n",
      "    reply = self.commands[command][\"callback\"](message)\n",
      "  File \"<ipython-input-131-7a913e1c00ee>\", line 115, in save\n",
      "    response = Response()\n",
      "NameError: name 'Response' is not defined\n",
      "127.0.0.1 - - [22/Feb/2020 00:04:41] \"\u001b[1m\u001b[35mPOST / HTTP/1.1\u001b[0m\" 500 -\n"
     ]
    }
   ],
   "source": [
    "bot = TeamsBot(\n",
    "    bot_app_name,\n",
    "    teams_bot_token=teams_token,\n",
    "    teams_bot_url=bot_url,\n",
    "    teams_bot_email=bot_email,\n",
    ")\n",
    "\n",
    "def greeting(incoming_msg):\n",
    "    # Loopkup details about sender\n",
    "    global sender\n",
    "    sender = bot.teams.people.get(incoming_msg.personId)\n",
    "\n",
    "    # Create a Response object and craft a reply in Markdown.\n",
    "    return (\"Hello {}, I'm your time recording bot. \\n\\n See what I can do by asking for **/help**.\").format(sender.firstName)\n",
    "    #return \"See what I can do by asking for **/help**.\"\n",
    "    \n",
    "def record_time(incoming_msg):\n",
    "    return date\n",
    "    \n",
    "def date(incoming_msg):\n",
    "    global cur_date\n",
    "    date_test = (incoming_msg.text).replace(\"/recordtime\",\"\")\n",
    "    date_test = (date_test.replace(\" \",\"\"))\n",
    "    if len(str(date_test)) != 8:\n",
    "        if len(str(date_test)) > 0:\n",
    "            reply = \"Please enter a valid date format: /recording DDMMYYYY\"\n",
    "            return reply\n",
    "            \n",
    "        else:    \n",
    "            global cur_date\n",
    "            u = \"http://worldclockapi.com/api/json/{timezone}/now\".format(timezone=\"CET\")\n",
    "            r = requests.get(u).json()\n",
    "\n",
    "            if r[\"serviceResponse\"]:\n",
    "                return \"Error: \" + r[\"serviceResponse\"]\n",
    "\n",
    "            returned_data = r[\"currentDateTime\"].split(\"T\")\n",
    "            cur_date = returned_data[0]\n",
    "            reply = \"Recording for {DATE}. \\n\\n Chose a start time by entering /start hr.\".format(DATE=cur_date)\n",
    "            return reply\n",
    "    else: \n",
    "        cur_date = datetime.strptime(str(date_test), '%d%m%Y').date()\n",
    "        reply = \"Recording for {DATE}. \\n\\n Chose a start time by writing: /start hr.\".format(DATE=cur_date)\n",
    "        return reply\n",
    "   \n",
    "    \n",
    "def start_time(incoming_msg):\n",
    "    global start_time2\n",
    "    start_time = (incoming_msg.text).replace(\"/start \",\"\")\n",
    "    start_time2 = datetime.strptime(str(start_time), '%H%M').time()\n",
    "    #start_time = int(start_time)\n",
    "    return (\"Your start time for \" + str(cur_date) + \" is: {} \\n\\n Chose a start time by writing: /end hr.: \").format(start_time2)\n",
    "            \n",
    "\n",
    "def end_time(incoming_msg):\n",
    "    global end_time_final\n",
    "    end_time = (incoming_msg.text).replace(\"/end\",\"\")\n",
    "    end_time = (end_time.replace(\" \",\"\"))\n",
    "    if len(str(end_time)) != 3:\n",
    "        if len(str(end_time)) != 4:\n",
    "            if len(str(end_time)) > 0:\n",
    "                reply = \"Please enter a valid date format: /end HMM or HHMM\"\n",
    "                return reply\n",
    "            else: \n",
    "                u = \"http://worldclockapi.com/api/json/{timezone}/now\".format(timezone=\"CET\")\n",
    "                r = requests.get(u).json()\n",
    "\n",
    "                returned_data = r[\"currentDateTime\"].split(\"T\")\n",
    "                end_time = returned_data[1]\n",
    "                end_time = (end_time.split(\"+\"))[0]\n",
    "                end_time_final = datetime.strptime(str(end_time), '%H%M').time()\n",
    "                reply = \"Your end time for \" + str(cur_date) + \" is: {TIME}.\".format(TIME=end_time_final)\n",
    "                return reply\n",
    "        else:\n",
    "            end_time_final = datetime.strptime(str(end_time), '%H%M').time()\n",
    "            reply = \"Your end time for \" + str(cur_date) + \" is: {TIME}.\".format(TIME=end_time_final)\n",
    "            return reply\n",
    "    else:\n",
    "        end_time_final = datetime.strptime(str(end_time), '%H%M').time()\n",
    "        reply = \"Your end time for \" + str(cur_date) + \" is: {TIME}. \\n\\n Save with: /save\".format(TIME=end_time_final)\n",
    "        return reply\n",
    "    \n",
    "def save(incoming_msg):\n",
    "    global filename\n",
    "    #sender = bot.teams.people.get(incoming_msg.personId)\n",
    "    #firstName = sender.firstName()\n",
    "    \n",
    "    file_df = pd.DataFrame()\n",
    "    file_df['Date'] = [cur_date]\n",
    "    file_df['Start time'] = [start_time2]\n",
    "    file_df['End_time'] = [end_time_final]\n",
    "    \n",
    "    #start = datetime.time(start_time2)  # Example enter time\n",
    "    #end = datetime.time(end_time)  # Example start time\n",
    "    #formatt = '%H%M'\n",
    "    #time = datetime.strptime(str(start_time2), formatt) - datetime.strptime(str(end_time), formatt)\n",
    "    \n",
    "    #file_df[\"Total time\"] = [time]\n",
    "    #filename = (incoming_msg.text).replace(\"/save\",\"\")\n",
    "    #filename = (end_time.replace(\" \",\"\"))\n",
    "    timerec_file = openpyxl.Workbook()\n",
    "    timerec_file.save(os.getcwd() + \"\\\\\" + \"\\'s_time_recording.xlsx\")\n",
    "    writer = pd.ExcelWriter(os.getcwd() + \"\\\\\" + \"\\'s_time_recording.xlsx\", engine='openpyxl')\n",
    "    file_df.to_excel(writer, index=False)\n",
    "    writer.save()  \n",
    "    #print(\"Saved to \" + os.getcwd() + \"\\\\\" + sender + \"'s_time_recording.xlsx\" + \" successfully.\")\n",
    "    reply = (\"Saved to: \" + os.getcwd() + \"\\\\\" + \"\\'s_time_recording.xlsx\")\n",
    "    \n",
    "    \n",
    "#     abs_path = os.path.abspath(os.getcwd() + \"\\\\\" + \"\\'s_time_recording.xlsx\")\n",
    "#     rooms = api.rooms.list()\n",
    "#     file_list = [abs_path]\n",
    "#     api.messages.create(roomId=incoming_msg.id, files=file_list)\n",
    "    \n",
    "    response = Response()\n",
    "\n",
    "    # Set the text of the reply.\n",
    "    response.text = \"Here's a fun little meme.\"\n",
    "\n",
    "    # Craft a URL for a file to attach to message\n",
    "    u = os.getcwd() + \"\\\\\" + \"\\'s_time_recording.xlsx\"\n",
    "    #u = u + \"aaaaaalll-righty-then-alrighty-meme.jpg\"\n",
    "    response.files = u\n",
    "    return response\n",
    "\n",
    "     #ROOM_ID = incoming_msg.roomId()\n",
    "#     FILE_PATH = \"<the_path_to_the_local_file>\"\n",
    "\n",
    "\n",
    "#     # Create a WebexTeamsAPI connection object; uses your WEBEX_TEAMS_ACCESS_TOKEN\n",
    "#     api = WebexTeamsAPI()\n",
    "\n",
    "\n",
    "#     # Let's make sure the file exists\n",
    "#     if not os.path.isfile(FILE_PATH):\n",
    "#         print(\"ERROR: File {} does not exist.\".format(FILE_PATH))\n",
    "\n",
    "\n",
    "#     # Not a requirement but to be completely clear let's make sure we are using\n",
    "#     # an absolute path.\n",
    "#     abs_path = os.path.abspath(FILE_PATH)\n",
    "\n",
    "\n",
    "#     # The files parameter expects to receive a list containing a single string with\n",
    "#     # the path to the file to be uploaded.\n",
    "#     file_list = [abs_path]\n",
    "\n",
    "\n",
    "#     # It takes just a single statement to upload the file and create the message\n",
    "#     api.messages.create(roomId=ROOM_ID, files=file_list)\n",
    "        \n",
    "\n",
    "bot.set_help_message(\"Welcome to the time recording bot! \\n\\n I understand the following commands:\\n\")\n",
    "\n",
    "# Add new commands to the box.\n",
    "bot.set_greeting(greeting)\n",
    "bot.add_command(\"/recordtime\", \"Record date, start end time.\", date)\n",
    "bot.add_command(\"/start\", \"Record start time.\", start_time)\n",
    "bot.add_command(\"/end\", \"Record end time.\", end_time)\n",
    "bot.add_command(\"/save\", \"Save recorded data to .xlsx file.\", save)\n",
    "bot.remove_command(\"/echo\")\n",
    "\n",
    "\n",
    "if __name__ == \"__main__\":\n",
    "    # Run Bot\n",
    "    bot.run(host=\"127.0.0.1\", port=\"3978\")"
   ]
  },
  {
   "cell_type": "code",
   "execution_count": 17,
   "metadata": {},
   "outputs": [
    {
     "data": {
      "text/plain": [
       "'Time Recording Bot'"
      ]
     },
     "execution_count": 17,
     "metadata": {},
     "output_type": "execute_result"
    }
   ],
   "source": []
  },
  {
   "cell_type": "code",
   "execution_count": null,
   "metadata": {},
   "outputs": [],
   "source": [
    "\n",
    "# Find all rooms that have 'webexteamssdk Demo' in their title\n",
    "all_rooms = api.rooms.list()\n",
    "demo_rooms = [room for room in all_rooms if 'webexteamssdk Demo' in room.title]\n",
    "\n",
    "# Delete all of the demo rooms\n",
    "for room in demo_rooms:\n",
    "    api.rooms.delete(room.id)\n",
    "\n",
    "# Create a new demo room\n",
    "demo_room = api.rooms.create('webexteamssdk Demo')\n",
    "\n",
    "# Add people to the new demo room\n",
    "email_addresses = [\"test01@cmlccie.com\", \"test02@cmlccie.com\"]\n",
    "for email in email_addresses:\n",
    "    api.memberships.create(demo_room.id, personEmail=email)\n",
    "\n",
    "# Post a message to the new room, and upload a file\n",
    "api.messages.create(demo_room.id, text=\"Welcome to the room!\",\n",
    "                    files=[\"https://www.webex.com/content/dam/wbx/us/images/dg-integ/teams_icon.png\"])"
   ]
  }
 ],
 "metadata": {
  "kernelspec": {
   "display_name": "Python 3",
   "language": "python",
   "name": "python3"
  },
  "language_info": {
   "codemirror_mode": {
    "name": "ipython",
    "version": 3
   },
   "file_extension": ".py",
   "mimetype": "text/x-python",
   "name": "python",
   "nbconvert_exporter": "python",
   "pygments_lexer": "ipython3",
   "version": "3.7.3"
  }
 },
 "nbformat": 4,
 "nbformat_minor": 2
}
