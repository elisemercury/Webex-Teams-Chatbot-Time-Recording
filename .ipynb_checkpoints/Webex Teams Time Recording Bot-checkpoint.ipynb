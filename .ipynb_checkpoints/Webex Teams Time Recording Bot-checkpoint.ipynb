{
 "cells": [
  {
   "cell_type": "code",
   "execution_count": 75,
   "metadata": {},
   "outputs": [],
   "source": [
    "from webexteamssdk import WebexTeamsAPI\n",
    "from webexteamsbot import TeamsBot\n",
    "import os\n",
    "import requests"
   ]
  },
  {
   "cell_type": "code",
   "execution_count": null,
   "metadata": {},
   "outputs": [],
   "source": [
    "#In CMD\n",
    "\n",
    ":: export TEAMS_BOT_URL=http://77af5e8d.ngrok.io/\n",
    ":: export TEAMS_BOT_TOKEN=MTg0ZTdhOTMtOTE5NS00NzAxLTgwNWEtZDQwZmM1NmZiODk5ODJjODIxZmEtNmZm_PF84_1eb65fdf-9643-417f-9974-ad72cae0e10f\n",
    ":: export TEAMS_BOT_EMAIL=timerec@webex.bot\n",
    ":: export TEAMS_BOT_APP_NAME=Time Recording Bot"
   ]
  },
  {
   "cell_type": "code",
   "execution_count": 12,
   "metadata": {},
   "outputs": [
    {
     "name": "stdout",
     "output_type": "stream",
     "text": [
      "None\n"
     ]
    }
   ],
   "source": [
    "bot_email = os.getenv(\"TEAMS_BOT_EMAIL\")\n",
    "teams_token = os.getenv(\"TEAMS_BOT_TOKEN\")\n",
    "bot_url = os.getenv(\"TEAMS_BOT_URL\")\n",
    "bot_app_name = os.getenv(\"TEAMS_BOT_APP_NAME\")\n",
    "\n",
    "print(bot_app_name)"
   ]
  },
  {
   "cell_type": "code",
   "execution_count": null,
   "metadata": {},
   "outputs": [],
   "source": [
    "################################################"
   ]
  },
  {
   "cell_type": "code",
   "execution_count": 28,
   "metadata": {},
   "outputs": [],
   "source": [
    "bot_email = \"timerec@webex.bot\"\n",
    "teams_token = \"MTg0ZTdhOTMtOTE5NS00NzAxLTgwNWEtZDQwZmM1NmZiODk5ODJjODIxZmEtNmZm_PF84_1eb65fdf-9643-417f-9974-ad72cae0e10f\"\n",
    "bot_url = \"https://8ffcee03.ngrok.io\"\n",
    "bot_app_name = \"Time Recording Bot\""
   ]
  },
  {
   "cell_type": "code",
   "execution_count": 80,
   "metadata": {},
   "outputs": [
    {
     "name": "stderr",
     "output_type": "stream",
     "text": [
      "Teams Bot Email: timerec@webex.bot\n",
      "Teams Token: REDACTED\n",
      "Found existing webhook.  Updating it.\n"
     ]
    },
    {
     "name": "stdout",
     "output_type": "stream",
     "text": [
      " * Serving Flask app \"Time Recording Bot\" (lazy loading)\n",
      " * Environment: production\n",
      "   WARNING: Do not use the development server in a production environment.\n",
      "   Use a production WSGI server instead.\n",
      " * Debug mode: off\n"
     ]
    },
    {
     "name": "stderr",
     "output_type": "stream",
     "text": [
      "Configuring Webhook. \n",
      "Webhook ID: Y2lzY29zcGFyazovL3VzL1dFQkhPT0svYmQ2MzM2ZTctYmExMC00MDc1LTk1ZTQtZjkyMzA5ZThlMDQy\n",
      " * Running on http://127.0.0.1:3978/ (Press CTRL+C to quit)\n",
      "Message from: elandman@cisco.com\n",
      "Found command: /recordtime\n",
      "127.0.0.1 - - [20/Feb/2020 23:33:39] \"\u001b[37mPOST / HTTP/1.1\u001b[0m\" 200 -\n",
      "127.0.0.1 - - [20/Feb/2020 23:33:40] \"\u001b[37mPOST / HTTP/1.1\u001b[0m\" 200 -\n",
      "Message from: elandman@cisco.com\n",
      "Found command: /start\n",
      "127.0.0.1 - - [20/Feb/2020 23:33:47] \"\u001b[37mPOST / HTTP/1.1\u001b[0m\" 200 -\n",
      "127.0.0.1 - - [20/Feb/2020 23:33:48] \"\u001b[37mPOST / HTTP/1.1\u001b[0m\" 200 -\n"
     ]
    }
   ],
   "source": [
    "bot = TeamsBot(\n",
    "    bot_app_name,\n",
    "    teams_bot_token=teams_token,\n",
    "    teams_bot_url=bot_url,\n",
    "    teams_bot_email=bot_email,\n",
    ")\n",
    "\n",
    "def greeting(incoming_msg):\n",
    "    # Loopkup details about sender\n",
    "    sender = bot.teams.people.get(incoming_msg.personId)\n",
    "\n",
    "    # Create a Response object and craft a reply in Markdown.\n",
    "    return (\"Hello {}, I'm your time recording bot. \\n\\n See what I can do by asking for **/help**.\").format(sender.firstName)\n",
    "    #return \"See what I can do by asking for **/help**.\"\n",
    "\n",
    "def record_time(incoming_msg):\n",
    "    return date\n",
    "    \n",
    "def date(incoming_msg):\n",
    "    global cur_date\n",
    "    #timezone = bot.extract_message(\"/time\", incoming_msg.text).strip()\n",
    "\n",
    "    u = \"http://worldclockapi.com/api/json/{timezone}/now\".format(timezone=\"CET\")\n",
    "    r = requests.get(u).json()\n",
    "\n",
    "    if r[\"serviceResponse\"]:\n",
    "        return \"Error: \" + r[\"serviceResponse\"]\n",
    "\n",
    "    returned_data = r[\"currentDateTime\"].split(\"T\")\n",
    "    cur_date = returned_data[0]\n",
    "    reply = \"Recording for {DATE}. \\n\\n Chose a start time by entering /start hr.\".format(DATE=cur_date)\n",
    "    return reply\n",
    "    \n",
    "    \n",
    "def start_time(incoming_msg):\n",
    "    global start_time\n",
    "    start_time = (incoming_msg.text).replace(\"/start\",\"\")\n",
    "    start_time = int(start_time)\n",
    "    return (\"Your start time for \" + cur_date + \" is: {} \\n\\n End time: \").format(start_time)\n",
    "            \n",
    "\n",
    "def end_time(incoming_msg):\n",
    "    global end_time\n",
    "    end_time = (incoming_msg.text).replace(\"/end\",\"\")\n",
    "    end_time = int(end_time)\n",
    "    return (\"Your end time is: {}\").format(end_time)\n",
    "\n",
    "        \n",
    "\n",
    "bot.set_help_message(\"Welcome to the time recording bot! \\n\\n I understand the following commands:\\n\")\n",
    "\n",
    "# Add new commands to the box.\n",
    "bot.set_greeting(greeting)\n",
    "bot.add_command(\"/recordtime\", \"Record date, start end time.\", date)\n",
    "bot.add_command(\"/start\", \"Record start time.\", start_time)\n",
    "bot.add_command(\"/end\", \"Record end time.\", end_time)\n",
    "bot.remove_command(\"/echo\")\n",
    "\n",
    "\n",
    "if __name__ == \"__main__\":\n",
    "    # Run Bot\n",
    "    bot.run(host=\"127.0.0.1\", port=\"3978\")"
   ]
  },
  {
   "cell_type": "code",
   "execution_count": 17,
   "metadata": {},
   "outputs": [
    {
     "data": {
      "text/plain": [
       "'Time Recording Bot'"
      ]
     },
     "execution_count": 17,
     "metadata": {},
     "output_type": "execute_result"
    }
   ],
   "source": []
  },
  {
   "cell_type": "code",
   "execution_count": null,
   "metadata": {},
   "outputs": [],
   "source": [
    "\n",
    "# Find all rooms that have 'webexteamssdk Demo' in their title\n",
    "all_rooms = api.rooms.list()\n",
    "demo_rooms = [room for room in all_rooms if 'webexteamssdk Demo' in room.title]\n",
    "\n",
    "# Delete all of the demo rooms\n",
    "for room in demo_rooms:\n",
    "    api.rooms.delete(room.id)\n",
    "\n",
    "# Create a new demo room\n",
    "demo_room = api.rooms.create('webexteamssdk Demo')\n",
    "\n",
    "# Add people to the new demo room\n",
    "email_addresses = [\"test01@cmlccie.com\", \"test02@cmlccie.com\"]\n",
    "for email in email_addresses:\n",
    "    api.memberships.create(demo_room.id, personEmail=email)\n",
    "\n",
    "# Post a message to the new room, and upload a file\n",
    "api.messages.create(demo_room.id, text=\"Welcome to the room!\",\n",
    "                    files=[\"https://www.webex.com/content/dam/wbx/us/images/dg-integ/teams_icon.png\"])"
   ]
  }
 ],
 "metadata": {
  "kernelspec": {
   "display_name": "Python 3",
   "language": "python",
   "name": "python3"
  },
  "language_info": {
   "codemirror_mode": {
    "name": "ipython",
    "version": 3
   },
   "file_extension": ".py",
   "mimetype": "text/x-python",
   "name": "python",
   "nbconvert_exporter": "python",
   "pygments_lexer": "ipython3",
   "version": "3.7.3"
  }
 },
 "nbformat": 4,
 "nbformat_minor": 2
}
